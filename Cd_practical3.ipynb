{
  "nbformat": 4,
  "nbformat_minor": 0,
  "metadata": {
    "colab": {
      "provenance": [],
      "authorship_tag": "ABX9TyPAoPrhFd3rqVgcIbKdO+mC",
      "include_colab_link": true
    },
    "kernelspec": {
      "name": "python3",
      "display_name": "Python 3"
    },
    "language_info": {
      "name": "python"
    }
  },
  "cells": [
    {
      "cell_type": "markdown",
      "metadata": {
        "id": "view-in-github",
        "colab_type": "text"
      },
      "source": [
        "<a href=\"https://colab.research.google.com/github/Auxilus08/Compiler-Design/blob/main/Cd_practical3.ipynb\" target=\"_parent\"><img src=\"https://colab.research.google.com/assets/colab-badge.svg\" alt=\"Open In Colab\"/></a>"
      ]
    },
    {
      "cell_type": "markdown",
      "source": [
        "# Parser Construction"
      ],
      "metadata": {
        "id": "VP16yxTY9L9Q"
      }
    },
    {
      "cell_type": "code",
      "source": [
        "import sys\n",
        "grammer = {}\n",
        "non_terminals = set()\n",
        "first_sets = {}\n"
      ],
      "metadata": {
        "id": "jkWlxU5bEYsA"
      },
      "execution_count": 22,
      "outputs": []
    },
    {
      "cell_type": "code",
      "execution_count": 23,
      "metadata": {
        "id": "nU2TK6te9Jeh"
      },
      "outputs": [],
      "source": [
        "def parse_grammer(input_lines):\n",
        "  grammer.clear()\n",
        "  non_terminals.clear()\n",
        "\n",
        "  for line in input_lines:\n",
        "    line = line.strip()\n",
        "    if not line or line.startswith('#'):\n",
        "      continue\n",
        "    head, _, str_productions = line.partition(':')\n",
        "    head = head.strip()\n",
        "\n",
        "    if not head.isupper():\n",
        "      print(f\" Non terminal {head} is not uppercase.\")\n",
        "\n",
        "    non_terminals.add(head)\n",
        "\n",
        "    if head not in grammer:\n",
        "      grammer[head] = []\n",
        "\n",
        "    productions = str_productions.split('|')\n",
        "    for production in productions:\n",
        "      production = production.strip()\n",
        "      grammer[head].append(production.split()) # Split production into symbols"
      ]
    },
    {
      "cell_type": "code",
      "source": [
        "def calculate_first_for_sequence(sequence):\n",
        "  first = set()\n",
        "\n",
        "  if not sequence or (len(sequence) == 1 and sequence[0] == 'Epsilon'): # Handle single 'Epsilon'\n",
        "    return {'Epsilon'}\n",
        "\n",
        "  can_produce_epsilon = True\n",
        "\n",
        "  for symbol in sequence:\n",
        "    if symbol not in non_terminals:\n",
        "      first.add(symbol)\n",
        "      can_produce_epsilon = False\n",
        "      break\n",
        "\n",
        "    first_of_symbol = first_sets.get(symbol, set()) # Use .get() with empty set default\n",
        "    first.update(first_of_symbol - {'Epsilon'})\n",
        "\n",
        "    if 'Epsilon' not in first_of_symbol:\n",
        "      can_produce_epsilon = False\n",
        "      break\n",
        "\n",
        "  if can_produce_epsilon:\n",
        "    first.add('Epsilon')\n",
        "\n",
        "  return first"
      ],
      "metadata": {
        "id": "GLKlUknq96gh"
      },
      "execution_count": 24,
      "outputs": []
    },
    {
      "cell_type": "code",
      "source": [
        "def compute_first_set():\n",
        "\n",
        "  for nt in non_terminals:\n",
        "    first_sets[nt] = set()\n",
        "\n",
        "  while True:\n",
        "    changed = False\n",
        "\n",
        "    for nt in non_terminals:\n",
        "      original_size = len(first_sets[nt])\n",
        "\n",
        "      for production in grammer.get(nt, []):\n",
        "        first_of_rhs = calculate_first_for_sequence(production)\n",
        "        first_sets[nt].update(first_of_rhs)\n",
        "\n",
        "      if len(first_sets[nt]) != original_size:\n",
        "        changed = True\n",
        "\n",
        "    if not changed:\n",
        "      break"
      ],
      "metadata": {
        "id": "yunp5y1KBfU5"
      },
      "execution_count": 25,
      "outputs": []
    },
    {
      "cell_type": "code",
      "source": [
        "def main():\n",
        "  print(\"Enter the Grammer Rules: \")\n",
        "  print(\"use 'Epsilon'. press Enter on an Empty line when you are done\")\n",
        "  print(\"-\" * 20)\n",
        "\n",
        "  input_lines = []\n",
        "  while True:\n",
        "    try:\n",
        "      line = input()\n",
        "      if not line:\n",
        "        break\n",
        "      input_lines.append(line)\n",
        "\n",
        "    except EOFError:\n",
        "      break\n",
        "\n",
        "  if not input_lines:\n",
        "    print(\"No grammer rules for Entered. Exiting\")\n",
        "    return\n",
        "\n",
        "  try:\n",
        "    parse_grammer(input_lines)\n",
        "    compute_first_set()\n",
        "\n",
        "    sorted_nts = sorted(list(non_terminals))\n",
        "    for nt in sorted_nts:\n",
        "            terminals_str = \", \".join(sorted(list(first_sets.get(nt, set()))))\n",
        "            print(f\"FIRST({nt}) = {{ {terminals_str} }}\")\n",
        "\n",
        "  except Exception as e:\n",
        "        print(f\"\\nAn error occurred: {e}\", file=sys.stderr)\n",
        "\n"
      ],
      "metadata": {
        "id": "JYhbU8UKCMGS"
      },
      "execution_count": 26,
      "outputs": []
    },
    {
      "cell_type": "code",
      "source": [
        "if __name__ == \"__main__\":\n",
        "    main()"
      ],
      "metadata": {
        "outputId": "d0eb9b7e-8460-42ca-d4dd-15fc4e1eccc4",
        "colab": {
          "base_uri": "https://localhost:8080/"
        },
        "id": "AeJArOhCEszK"
      },
      "execution_count": 28,
      "outputs": [
        {
          "output_type": "stream",
          "name": "stdout",
          "text": [
            "Enter the Grammer Rules: \n",
            "use 'Epsilon'. press Enter on an Empty line when you are done\n",
            "--------------------\n",
            "A : S B | B\n",
            "B : b | d\n",
            "S : a | B c | Epsilon\n",
            "\n",
            "FIRST(A) = { a, b, d }\n",
            "FIRST(B) = { b, d }\n",
            "FIRST(S) = { Epsilon, a, b, d }\n"
          ]
        }
      ]
    },
    {
      "cell_type": "code",
      "source": [],
      "metadata": {
        "id": "2XJauWiZDQEa"
      },
      "execution_count": 27,
      "outputs": []
    },
    {
      "cell_type": "code",
      "source": [],
      "metadata": {
        "id": "Ghkx9pTsDQz_"
      },
      "execution_count": null,
      "outputs": []
    }
  ]
}