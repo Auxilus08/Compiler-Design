{
  "nbformat": 4,
  "nbformat_minor": 0,
  "metadata": {
    "colab": {
      "provenance": [],
      "authorship_tag": "ABX9TyOIfptyKlPI6qnELnlGYNWD",
      "include_colab_link": true
    },
    "kernelspec": {
      "name": "python3",
      "display_name": "Python 3"
    },
    "language_info": {
      "name": "python"
    }
  },
  "cells": [
    {
      "cell_type": "markdown",
      "metadata": {
        "id": "view-in-github",
        "colab_type": "text"
      },
      "source": [
        "<a href=\"https://colab.research.google.com/github/Auxilus08/Compiler-Design/blob/main/Cd_practical3.ipynb\" target=\"_parent\"><img src=\"https://colab.research.google.com/assets/colab-badge.svg\" alt=\"Open In Colab\"/></a>"
      ]
    },
    {
      "cell_type": "markdown",
      "source": [
        "# Parser Construction"
      ],
      "metadata": {
        "id": "VP16yxTY9L9Q"
      }
    },
    {
      "cell_type": "code",
      "execution_count": null,
      "metadata": {
        "id": "nU2TK6te9Jeh"
      },
      "outputs": [],
      "source": [
        "import sys\n",
        "\n",
        "grammer = {}\n",
        "non_terminals = set()\n",
        "first_sets = {}\n",
        "\n",
        "def parse_grammer(input_lines):\n",
        "  for line in input_lines:\n",
        "    line = line.strip()\n",
        "    if not line or line.startswith('#'):\n",
        "      continue\n",
        "    head, _, str_productions = line.partition(':')\n",
        "    head = head.strip()\n",
        "\n",
        "    if not head.isupper():\n",
        "      print(f\" Non terminal {head} is not uppercase.\")\n",
        "\n",
        "    non_terminals.add(head)\n",
        "\n",
        "    if head not in grammer:\n",
        "      grammer[head] = []\n",
        "\n",
        "    productions = str_productions.split('|')\n",
        "    for production in productions:\n",
        "      production = production.strip()\n",
        "      grammer[head].append(production)"
      ]
    },
    {
      "cell_type": "code",
      "source": [
        "def calculate_first_for_sequence(sequence):\n",
        "  first = set()\n",
        "\n",
        "  if not sequence or sequence[0] == 'Epsilon':\n",
        "    return {'Epsilon'}\n",
        "  can_produce_epsilon = True\n",
        "\n",
        "  for symbol in sequence:\n",
        "    if symbol not in non_terminals:\n",
        "      first.add(symbol)\n",
        "      can_produce_epsilon = False\n",
        "      break\n",
        "\n",
        "    first_of_symbol = first_sets[symbol]\n",
        "    first.update(first_of_symbol - {'Epsilon'})\n",
        "\n",
        "    if 'Epsilon' not in first_of_symbol:\n",
        "      can_produce_epsilon = False\n",
        "      break\n",
        "\n",
        "  if can_produce_epsilon:\n",
        "    first.add('Epsilon')\n",
        "\n",
        "  return first"
      ],
      "metadata": {
        "id": "GLKlUknq96gh"
      },
      "execution_count": null,
      "outputs": []
    },
    {
      "cell_type": "code",
      "source": [],
      "metadata": {
        "id": "yunp5y1KBfU5"
      },
      "execution_count": null,
      "outputs": []
    }
  ]
}